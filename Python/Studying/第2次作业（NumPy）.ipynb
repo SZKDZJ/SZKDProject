{
 "cells": [
  {
   "cell_type": "markdown",
   "metadata": {},
   "source": [
    "## 数据创建与访问"
   ]
  },
  {
   "cell_type": "markdown",
   "metadata": {},
   "source": [
    "导入Numpy"
   ]
  },
  {
   "cell_type": "code",
   "metadata": {
    "ExecuteTime": {
     "end_time": "2024-10-21T14:28:35.311279Z",
     "start_time": "2024-10-21T14:28:35.300907Z"
    }
   },
   "source": "import numpy as np",
   "outputs": [],
   "execution_count": 27
  },
  {
   "cell_type": "markdown",
   "metadata": {},
   "source": [
    "要求：创建10x10数组\n",
    "1. 数组元素为服从标准正态分布的随机数"
   ]
  },
  {
   "cell_type": "code",
   "metadata": {
    "ExecuteTime": {
     "end_time": "2024-10-21T14:28:35.451372Z",
     "start_time": "2024-10-21T14:28:35.441148Z"
    }
   },
   "source": [
    "arr = np.random.randn(10, 10)\n",
    "print(arr)"
   ],
   "outputs": [
    {
     "name": "stdout",
     "output_type": "stream",
     "text": [
      "[[ 1.99226683  0.42259816 -0.05233986 -0.50745306  0.66800765 -2.08527363\n",
      "   0.00292974  1.43603991  0.94513803  0.29826398]\n",
      " [-0.88011435  1.39580512  1.7702214  -0.27774672  0.25958783 -0.30825358\n",
      "  -1.90837019  0.99610785 -0.69123263  1.89762728]\n",
      " [-0.83042712 -1.85214487 -0.06447878 -0.10538762  0.06522311 -0.09304871\n",
      "  -0.60715996 -1.7263651  -0.30265855 -0.32610498]\n",
      " [ 0.56227983  0.30270648  1.40174627  0.24307229 -0.11198576 -1.01182897\n",
      "   0.06098239  1.73236558  0.86733047  0.51267843]\n",
      " [-1.31946807  0.6050121   0.91562717  1.92863463  1.63971154  0.00594012\n",
      "  -0.21326767 -1.34578686 -0.02262042 -0.27141033]\n",
      " [ 0.79225122 -1.22764472 -0.59715146  0.24518344  1.44589122 -1.79314163\n",
      "   1.13601321 -1.33400934 -1.00523559  0.17772947]\n",
      " [-1.95797248 -0.04960774 -1.08552338  0.84321769  1.87275183 -0.82374692\n",
      "  -0.91369772 -0.91662946  1.83805096  1.65116665]\n",
      " [ 1.43560916 -0.07596719  0.33543825 -0.18400472 -0.17023105 -0.84373623\n",
      "  -1.29998337 -0.22078544 -0.25060441 -0.73727454]\n",
      " [ 0.61610357 -1.02832281 -0.82593628 -0.14146252  1.56400443  1.45321618\n",
      "  -0.39646874  0.97167951 -0.76495333  0.97487295]\n",
      " [-1.44627    -0.72779975 -0.49958543  0.50274565 -1.71895117 -0.98849095\n",
      "   0.92511257 -0.74623592  0.73342176  0.27639706]]\n"
     ]
    }
   ],
   "execution_count": 28
  },
  {
   "cell_type": "markdown",
   "metadata": {},
   "source": [
    "2. 对数组元素进行数据类型转换（float转int），并进行转置"
   ]
  },
  {
   "cell_type": "code",
   "metadata": {
    "ExecuteTime": {
     "end_time": "2024-10-21T14:28:35.696666Z",
     "start_time": "2024-10-21T14:28:35.676732Z"
    }
   },
   "source": [
    "arr = arr.astype(int).T\n",
    "print(arr)"
   ],
   "outputs": [
    {
     "name": "stdout",
     "output_type": "stream",
     "text": [
      "[[ 1  0  0  0 -1  0 -1  1  0 -1]\n",
      " [ 0  1 -1  0  0 -1  0  0 -1  0]\n",
      " [ 0  1  0  1  0  0 -1  0  0  0]\n",
      " [ 0  0  0  0  1  0  0  0  0  0]\n",
      " [ 0  0  0  0  1  1  1  0  1 -1]\n",
      " [-2  0  0 -1  0 -1  0  0  1  0]\n",
      " [ 0 -1  0  0  0  1  0 -1  0  0]\n",
      " [ 1  0 -1  1 -1 -1  0  0  0  0]\n",
      " [ 0  0  0  0  0 -1  1  0  0  0]\n",
      " [ 0  1  0  0  0  0  1  0  0  0]]\n"
     ]
    }
   ],
   "execution_count": 29
  },
  {
   "cell_type": "markdown",
   "metadata": {},
   "source": [
    "3. 查看数组的数据类型"
   ]
  },
  {
   "cell_type": "code",
   "metadata": {
    "ExecuteTime": {
     "end_time": "2024-10-21T14:28:35.881831Z",
     "start_time": "2024-10-21T14:28:35.872764Z"
    }
   },
   "source": "print(arr.dtype)",
   "outputs": [
    {
     "name": "stdout",
     "output_type": "stream",
     "text": [
      "int64\n"
     ]
    }
   ],
   "execution_count": 30
  },
  {
   "cell_type": "markdown",
   "metadata": {},
   "source": [
    "4. 查看数组的内存占用情况"
   ]
  },
  {
   "cell_type": "code",
   "metadata": {
    "ExecuteTime": {
     "end_time": "2024-10-21T14:28:36.141196Z",
     "start_time": "2024-10-21T14:28:36.132090Z"
    }
   },
   "source": "print(arr.nbytes)",
   "outputs": [
    {
     "name": "stdout",
     "output_type": "stream",
     "text": [
      "800\n"
     ]
    }
   ],
   "execution_count": 31
  },
  {
   "cell_type": "markdown",
   "metadata": {},
   "source": [
    "5. 使用一行代码找出数组中所有的偶数，并存入一个一维数组中"
   ]
  },
  {
   "cell_type": "code",
   "metadata": {
    "ExecuteTime": {
     "end_time": "2024-10-21T14:28:36.303546Z",
     "start_time": "2024-10-21T14:28:36.290678Z"
    }
   },
   "source": [
    "arr1D = arr[arr % 2 == 0]\n",
    "print(arr1D)"
   ],
   "outputs": [
    {
     "name": "stdout",
     "output_type": "stream",
     "text": [
      "[ 0  0  0  0  0  0  0  0  0  0  0  0  0  0  0  0  0  0  0  0  0  0  0  0\n",
      "  0  0  0  0  0  0  0  0 -2  0  0  0  0  0  0  0  0  0  0  0  0  0  0  0\n",
      "  0  0  0  0  0  0  0  0  0  0  0  0  0  0  0  0  0  0  0]\n"
     ]
    }
   ],
   "execution_count": 32
  },
  {
   "cell_type": "markdown",
   "metadata": {},
   "source": [
    "## 基本矩阵操作与运算"
   ]
  },
  {
   "cell_type": "markdown",
   "metadata": {},
   "source": [
    "要求：\n",
    "1. 创建主对角线都是3的5x5矩阵matr（0-4行，0-4列）"
   ]
  },
  {
   "cell_type": "code",
   "metadata": {
    "ExecuteTime": {
     "end_time": "2024-10-21T14:28:36.437785Z",
     "start_time": "2024-10-21T14:28:36.415618Z"
    }
   },
   "source": [
    "matr = np.matrix(np.diag([3,3,3,3,3]))\n",
    "print(matr)"
   ],
   "outputs": [
    {
     "name": "stdout",
     "output_type": "stream",
     "text": [
      "[[3 0 0 0 0]\n",
      " [0 3 0 0 0]\n",
      " [0 0 3 0 0]\n",
      " [0 0 0 3 0]\n",
      " [0 0 0 0 3]]\n"
     ]
    }
   ],
   "execution_count": 33
  },
  {
   "cell_type": "markdown",
   "metadata": {},
   "source": [
    "2. 交换matr第一列与第二列，构成matr1"
   ]
  },
  {
   "cell_type": "code",
   "metadata": {
    "ExecuteTime": {
     "end_time": "2024-10-21T14:28:36.639666Z",
     "start_time": "2024-10-21T14:28:36.618873Z"
    }
   },
   "source": [
    "matr1 = matr[:,[1,0,2,3,4]]\n",
    "print(matr1)"
   ],
   "outputs": [
    {
     "name": "stdout",
     "output_type": "stream",
     "text": [
      "[[0 3 0 0 0]\n",
      " [3 0 0 0 0]\n",
      " [0 0 3 0 0]\n",
      " [0 0 0 3 0]\n",
      " [0 0 0 0 3]]\n"
     ]
    }
   ],
   "execution_count": 34
  },
  {
   "cell_type": "markdown",
   "metadata": {},
   "source": [
    "3. 交换matr第二行与第三行，构成matr2"
   ]
  },
  {
   "cell_type": "code",
   "metadata": {
    "ExecuteTime": {
     "end_time": "2024-10-21T14:28:36.880900Z",
     "start_time": "2024-10-21T14:28:36.872243Z"
    }
   },
   "source": [
    "matr2 = matr[[0,2,1,3,4],:]\n",
    "print(matr2)"
   ],
   "outputs": [
    {
     "name": "stdout",
     "output_type": "stream",
     "text": [
      "[[3 0 0 0 0]\n",
      " [0 0 3 0 0]\n",
      " [0 3 0 0 0]\n",
      " [0 0 0 3 0]\n",
      " [0 0 0 0 3]]\n"
     ]
    }
   ],
   "execution_count": 35
  },
  {
   "cell_type": "markdown",
   "metadata": {},
   "source": [
    "4. 判断matr1和matr2否有任何元素不同，计算不同元素的个数，找出不同元素的位置"
   ]
  },
  {
   "cell_type": "code",
   "metadata": {
    "ExecuteTime": {
     "end_time": "2024-10-21T14:28:37.141813Z",
     "start_time": "2024-10-21T14:28:37.130832Z"
    }
   },
   "source": [
    "diff_count, diff_indices = np.sum(matr1 != matr2),np.argwhere(matr1 != matr2)\n",
    "print(diff_count,\"\\n\",diff_indices)"
   ],
   "outputs": [
    {
     "name": "stdout",
     "output_type": "stream",
     "text": [
      "6 \n",
      " [[0 0]\n",
      " [0 1]\n",
      " [1 0]\n",
      " [1 2]\n",
      " [2 1]\n",
      " [2 2]]\n"
     ]
    }
   ],
   "execution_count": 36
  },
  {
   "cell_type": "markdown",
   "metadata": {},
   "source": [
    "5. 计算matr1和matr2的相乘结果"
   ]
  },
  {
   "cell_type": "code",
   "metadata": {
    "ExecuteTime": {
     "end_time": "2024-10-21T14:28:37.316456Z",
     "start_time": "2024-10-21T14:28:37.292885Z"
    }
   },
   "source": "print(np.dot(matr1, matr2))",
   "outputs": [
    {
     "name": "stdout",
     "output_type": "stream",
     "text": [
      "[[0 0 9 0 0]\n",
      " [9 0 0 0 0]\n",
      " [0 9 0 0 0]\n",
      " [0 0 0 9 0]\n",
      " [0 0 0 0 9]]\n"
     ]
    }
   ],
   "execution_count": 37
  },
  {
   "cell_type": "markdown",
   "metadata": {},
   "source": [
    "6. 计算matr1和matr2对应元素相乘的结果"
   ]
  },
  {
   "cell_type": "code",
   "metadata": {
    "ExecuteTime": {
     "end_time": "2024-10-21T14:28:37.509658Z",
     "start_time": "2024-10-21T14:28:37.493668Z"
    }
   },
   "source": "print(np.multiply(matr1, matr2))",
   "outputs": [
    {
     "name": "stdout",
     "output_type": "stream",
     "text": [
      "[[0 0 0 0 0]\n",
      " [0 0 0 0 0]\n",
      " [0 0 0 0 0]\n",
      " [0 0 0 9 0]\n",
      " [0 0 0 0 9]]\n"
     ]
    }
   ],
   "execution_count": 38
  },
  {
   "cell_type": "markdown",
   "metadata": {},
   "source": [
    "7. 将matr1和matr2按行拼接"
   ]
  },
  {
   "cell_type": "code",
   "metadata": {
    "ExecuteTime": {
     "end_time": "2024-10-21T14:28:37.641110Z",
     "start_time": "2024-10-21T14:28:37.632707Z"
    }
   },
   "source": "print(np.hstack((matr1, matr2)))",
   "outputs": [
    {
     "name": "stdout",
     "output_type": "stream",
     "text": [
      "[[0 3 0 0 0 3 0 0 0 0]\n",
      " [3 0 0 0 0 0 0 3 0 0]\n",
      " [0 0 3 0 0 0 3 0 0 0]\n",
      " [0 0 0 3 0 0 0 0 3 0]\n",
      " [0 0 0 0 3 0 0 0 0 3]]\n"
     ]
    }
   ],
   "execution_count": 39
  },
  {
   "cell_type": "markdown",
   "metadata": {},
   "source": [
    "## 使用Numpy进行统计分析\n",
    "要求：\n",
    "1. 使用numpy生成6行6列的二维数组arr，值为1-100随机整数"
   ]
  },
  {
   "cell_type": "code",
   "metadata": {
    "ExecuteTime": {
     "end_time": "2024-10-21T14:28:37.853437Z",
     "start_time": "2024-10-21T14:28:37.832397Z"
    }
   },
   "source": [
    "arr = np.random.randint(1, 101, size = [6, 6])\n",
    "print(arr)"
   ],
   "outputs": [
    {
     "name": "stdout",
     "output_type": "stream",
     "text": [
      "[[18  4  6  4 49 59]\n",
      " [34 97 33 18  8 75]\n",
      " [43 65 78 31 43 31]\n",
      " [52 66 66 44 11 96]\n",
      " [44  3  5 87 96 76]\n",
      " [25 96 35 84 25 32]]\n"
     ]
    }
   ],
   "execution_count": 40
  },
  {
   "cell_type": "markdown",
   "metadata": {},
   "source": [
    "2. 找出arr每列的最大值"
   ]
  },
  {
   "cell_type": "code",
   "metadata": {
    "ExecuteTime": {
     "end_time": "2024-10-21T14:28:37.943370Z",
     "start_time": "2024-10-21T14:28:37.934870Z"
    }
   },
   "source": "print(np.max(arr, axis=0)) ",
   "outputs": [
    {
     "name": "stdout",
     "output_type": "stream",
     "text": [
      "[52 97 78 87 96 96]\n"
     ]
    }
   ],
   "execution_count": 41
  },
  {
   "cell_type": "markdown",
   "metadata": {},
   "source": [
    "3. 找出arr每行的最小值"
   ]
  },
  {
   "cell_type": "code",
   "metadata": {
    "ExecuteTime": {
     "end_time": "2024-10-21T14:28:38.047500Z",
     "start_time": "2024-10-21T14:28:38.038343Z"
    }
   },
   "source": "print(np.min(arr, axis=1)) ",
   "outputs": [
    {
     "name": "stdout",
     "output_type": "stream",
     "text": [
      "[ 4  8 31 11  3 25]\n"
     ]
    }
   ],
   "execution_count": 42
  },
  {
   "cell_type": "markdown",
   "metadata": {},
   "source": [
    "4. 计算arr每个元素的出现次数"
   ]
  },
  {
   "cell_type": "code",
   "metadata": {
    "ExecuteTime": {
     "end_time": "2024-10-21T14:28:38.203207Z",
     "start_time": "2024-10-21T14:28:38.184674Z"
    }
   },
   "source": [
    "unique, counts = np.unique(arr, return_counts=True)\n",
    "print(\"列表中元素与次数一一对应\",unique, counts)"
   ],
   "outputs": [
    {
     "name": "stdout",
     "output_type": "stream",
     "text": [
      "列表中元素与次数一一对应 [ 3  4  5  6  8 11 18 25 31 32 33 34 35 43 44 49 52 59 65 66 75 76 78 84\n",
      " 87 96 97] [1 2 1 1 1 1 2 2 2 1 1 1 1 2 2 1 1 1 1 2 1 1 1 1 1 3 1]\n"
     ]
    }
   ],
   "execution_count": 43
  },
  {
   "cell_type": "markdown",
   "metadata": {},
   "source": [
    "5. 获取arr第3行每个元素的大小排名"
   ]
  },
  {
   "cell_type": "code",
   "metadata": {
    "ExecuteTime": {
     "end_time": "2024-10-21T14:28:38.458539Z",
     "start_time": "2024-10-21T14:28:38.448589Z"
    }
   },
   "source": [
    "rank = np.argsort(np.argsort(arr[2]))+1\n",
    "print(\"从小到大排名\",rank)"
   ],
   "outputs": [
    {
     "name": "stdout",
     "output_type": "stream",
     "text": [
      "从小到大排名 [4 5 6 1 3 2]\n",
      "[3 5 4 0 1 2]\n"
     ]
    }
   ],
   "execution_count": 44
  },
  {
   "cell_type": "markdown",
   "metadata": {},
   "source": [
    "6. 去除arr中重复的行"
   ]
  },
  {
   "metadata": {
    "ExecuteTime": {
     "end_time": "2024-10-21T14:28:38.763157Z",
     "start_time": "2024-10-21T14:28:38.748117Z"
    }
   },
   "cell_type": "code",
   "source": [
    "arr = np.unique(arr, axis=0)\n",
    "print(arr)"
   ],
   "outputs": [
    {
     "name": "stdout",
     "output_type": "stream",
     "text": [
      "[[18  4  6  4 49 59]\n",
      " [25 96 35 84 25 32]\n",
      " [34 97 33 18  8 75]\n",
      " [43 65 78 31 43 31]\n",
      " [44  3  5 87 96 76]\n",
      " [52 66 66 44 11 96]]\n"
     ]
    }
   ],
   "execution_count": 45
  },
  {
   "cell_type": "markdown",
   "metadata": {},
   "source": [
    "7. 从arr中第4行不放回的抽出3个元素"
   ]
  },
  {
   "metadata": {
    "ExecuteTime": {
     "end_time": "2024-10-21T14:28:39.004563Z",
     "start_time": "2024-10-21T14:28:38.985559Z"
    }
   },
   "cell_type": "code",
   "source": [
    "sample = np.random.choice(arr[3], 3, replace=False)\n",
    "print(sample)"
   ],
   "outputs": [
    {
     "name": "stdout",
     "output_type": "stream",
     "text": [
      "[43 31 31]\n"
     ]
    }
   ],
   "execution_count": 46
  },
  {
   "cell_type": "markdown",
   "metadata": {},
   "source": "8. 提取arr第5行中不含第1行数据的数据"
  },
  {
   "cell_type": "code",
   "metadata": {
    "ExecuteTime": {
     "end_time": "2024-10-21T14:28:39.287187Z",
     "start_time": "2024-10-21T14:28:39.271783Z"
    }
   },
   "source": [
    "result = arr[4, ~np.isin(arr[4], arr[0])]\n",
    "print(result)"
   ],
   "outputs": [
    {
     "name": "stdout",
     "output_type": "stream",
     "text": [
      "[44  3  5 87 96 76]\n"
     ]
    }
   ],
   "execution_count": 47
  },
  {
   "cell_type": "markdown",
   "metadata": {},
   "source": [
    "9. 将arr中小于10的元素修改为Nan，生成arr2"
   ]
  },
  {
   "cell_type": "code",
   "metadata": {
    "ExecuteTime": {
     "end_time": "2024-10-21T14:28:39.476592Z",
     "start_time": "2024-10-21T14:28:39.465910Z"
    }
   },
   "source": [
    "arr2 = np.where(arr < 10, np.nan, arr)\n",
    "print(arr2)"
   ],
   "outputs": [
    {
     "name": "stdout",
     "output_type": "stream",
     "text": [
      "[[18. nan nan nan 49. 59.]\n",
      " [25. 96. 35. 84. 25. 32.]\n",
      " [34. 97. 33. 18. nan 75.]\n",
      " [43. 65. 78. 31. 43. 31.]\n",
      " [44. nan nan 87. 96. 76.]\n",
      " [52. 66. 66. 44. 11. 96.]]\n"
     ]
    }
   ],
   "execution_count": 48
  },
  {
   "cell_type": "markdown",
   "metadata": {},
   "source": [
    "10. 删除arr2中含有Nan的列"
   ]
  },
  {
   "cell_type": "code",
   "metadata": {
    "ExecuteTime": {
     "end_time": "2024-10-21T14:28:39.601386Z",
     "start_time": "2024-10-21T14:28:39.579154Z"
    }
   },
   "source": [
    "arr2 = arr2[:, ~np.isnan(arr2).any(axis=0)]\n",
    "print(arr2)"
   ],
   "outputs": [
    {
     "name": "stdout",
     "output_type": "stream",
     "text": [
      "[[18. 59.]\n",
      " [25. 32.]\n",
      " [34. 75.]\n",
      " [43. 31.]\n",
      " [44. 76.]\n",
      " [52. 96.]]\n"
     ]
    }
   ],
   "execution_count": 49
  }
 ],
 "metadata": {
  "kernelspec": {
   "display_name": "Python 3",
   "language": "python",
   "name": "python3"
  },
  "language_info": {
   "codemirror_mode": {
    "name": "ipython",
    "version": 3
   },
   "file_extension": ".py",
   "mimetype": "text/x-python",
   "name": "python",
   "nbconvert_exporter": "python",
   "pygments_lexer": "ipython3",
   "version": "3.7.0"
  }
 },
 "nbformat": 4,
 "nbformat_minor": 2
}
